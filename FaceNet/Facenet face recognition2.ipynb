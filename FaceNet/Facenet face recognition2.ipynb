{
 "cells": [
  {
   "cell_type": "code",
   "execution_count": 1,
   "metadata": {},
   "outputs": [],
   "source": [
    "import numpy as np\n",
    "import matplotlib.pyplot as plt\n",
    "import cv2\n",
    "import scipy\n",
    "from scipy.spatial import distance\n",
    "import os\n",
    "from os import listdir\n",
    "from os.path import isfile, join"
   ]
  },
  {
   "cell_type": "code",
   "execution_count": 2,
   "metadata": {},
   "outputs": [
    {
     "name": "stderr",
     "output_type": "stream",
     "text": [
      "Using TensorFlow backend.\n"
     ]
    }
   ],
   "source": [
    "import keras\n",
    "from keras.models import Model, Sequential\n",
    "from keras.layers import Input, Conv2D, MaxPooling2D, Flatten,Dense,GlobalAveragePooling2D,Lambda,add, Dropout, Activation,Concatenate,BatchNormalization\n",
    "import numpy as np\n",
    "from keras.preprocessing.image import load_img, save_img, img_to_array\n",
    "from keras.applications.imagenet_utils import preprocess_input\n",
    "from keras.preprocessing import image\n",
    "from keras import backend as K"
   ]
  },
  {
   "cell_type": "code",
   "execution_count": 3,
   "metadata": {},
   "outputs": [],
   "source": [
    "import mtcnn\n",
    "from mtcnn.mtcnn import MTCNN\n",
    "model2 = MTCNN(min_face_size = 10)\n",
    "from inception_resnet_v1 import *\n",
    "model = InceptionResNetV1()\n",
    "model.load_weights('facenet_weights.h5')"
   ]
  },
  {
   "cell_type": "code",
   "execution_count": 4,
   "metadata": {},
   "outputs": [],
   "source": [
    "def l2_normalize(x, axis=-1, epsilon=1e-10):\n",
    "    output = x / np.sqrt(np.maximum(np.sum(np.square(x), axis=axis, keepdims=True), epsilon))\n",
    "    return output"
   ]
  },
  {
   "cell_type": "code",
   "execution_count": 5,
   "metadata": {},
   "outputs": [],
   "source": [
    "def preprocess(x):\n",
    "    if x.ndim == 4:\n",
    "        axis = (1, 2, 3)\n",
    "        size = x[0].size\n",
    "    elif x.ndim == 3:\n",
    "        axis = (0, 1, 2)\n",
    "        size = x.size\n",
    "    else:\n",
    "        raise ValueError('Dimension should be 3 or 4')\n",
    "\n",
    "    mean = np.mean(x, axis=axis, keepdims=True)\n",
    "    std = np.std(x, axis=axis, keepdims=True)\n",
    "    std_adj = np.maximum(std, 1.0/np.sqrt(size))\n",
    "    y = (x - mean) / std_adj\n",
    "    return y"
   ]
  },
  {
   "cell_type": "code",
   "execution_count": 6,
   "metadata": {},
   "outputs": [],
   "source": [
    "def faceinfo(image,margin =10):\n",
    "    person_image1 = cv2.imread(image)\n",
    "    person_image = cv2.cvtColor(person_image1, cv2.COLOR_BGR2RGB)\n",
    "    face_info = model2.detect_faces(person_image)\n",
    "    for face in face_info:\n",
    "        if face['confidence']>0.98:\n",
    "            x,y,w,h = face['box']\n",
    "            x,y = abs(x),abs(y)\n",
    "            face = person_image1[y-margin//2:y+h+margin//2,x-margin//2:x+w+margin//2,:]\n",
    "            roi = cv2.resize(face, (160,160))\n",
    "            break\n",
    "        else:\n",
    "            pass\n",
    "    return roi"
   ]
  },
  {
   "cell_type": "code",
   "execution_count": 7,
   "metadata": {},
   "outputs": [],
   "source": [
    "def add_photo(image_path):\n",
    "    name1 = str(input('Enter the name of person'))\n",
    "    number = int(input('Enter the sr. number '))\n",
    "    im = faceinfo(image_path)\n",
    "    cv2.imwrite('crop_faces2/'+name1+ str(number) + '.jpg',im)\n",
    "    im2 = np.expand_dims(im, axis=0)\n",
    "    im3 = l2_normalize(model.predict(preprocess(im2)))\n",
    "    all_people_faces[name + str(number)] = im3\n",
    "    print('Done')"
   ]
  },
  {
   "cell_type": "code",
   "execution_count": 8,
   "metadata": {},
   "outputs": [],
   "source": [
    "import pickle"
   ]
  },
  {
   "cell_type": "code",
   "execution_count": 9,
   "metadata": {},
   "outputs": [],
   "source": [
    "all_people_faces = pickle.load(open('all_people_faces.pkl','rb'))"
   ]
  },
  {
   "cell_type": "code",
   "execution_count": 10,
   "metadata": {},
   "outputs": [],
   "source": [
    "with open('all_people_faces' + '.pkl', 'wb') as f:\n",
    "    pickle.dump(all_people_faces, f, pickle.HIGHEST_PROTOCOL)"
   ]
  },
  {
   "cell_type": "code",
   "execution_count": 11,
   "metadata": {},
   "outputs": [],
   "source": [
    "def match_face(image_address,margin = 10):\n",
    "    image = cv2.imread(image_address)\n",
    "    image1 = cv2.cvtColor(image, cv2.COLOR_BGR2RGB)    \n",
    "    face_info = model2.detect_faces(image1)\n",
    "    for face in face_info:\n",
    "        if face['confidence']>0.98:\n",
    "            x,y,w,h = face['box']\n",
    "            x,y = abs(x),abs(y)\n",
    "            face = image1[y-margin//2:y+h+margin//2,x-margin//2:x+w+margin//2,:]\n",
    "            roi = cv2.resize(face, (160,160))\n",
    "            roi = np.expand_dims(roi, axis=0)\n",
    "            captured_representation = l2_normalize(model.predict(preprocess(roi))[0])\n",
    "        \n",
    "            cv2.rectangle(image, (x,y), (x+w,y+h), (0,0,255), 1)\n",
    "            cv2.rectangle(image,(x,y-20),(x+w+40,y),(0,255,0),-1)\n",
    "            for i in all_people_faces:\n",
    "                person_name = i\n",
    "                representation = all_people_faces[i]\n",
    "\n",
    "                similarity =  distance.euclidean(representation, captured_representation)\n",
    "                found = 0\n",
    "                if(similarity < 0.82):\n",
    "                    cv2.putText(image, person_name[:-1], (int(x), int(y-5)), 0, 0.6, (0, 0, 255), 2)\n",
    "                    found = 1\n",
    "                    break\n",
    "            if(found == 0):\n",
    "                cv2.putText(image, 'unknown', (int(x), int(y-5)), 0, 0.6, (255, 0, 0), 2)\n",
    "            print(similarity)\n",
    "        else:\n",
    "            pass\n",
    "    \n",
    "    cv2.imshow('Face Recognition', image)\n",
    "    cv2.waitKey(0)    \n",
    "    cv2.destroyAllWindows()"
   ]
  },
  {
   "cell_type": "code",
   "execution_count": 17,
   "metadata": {},
   "outputs": [
    {
     "name": "stdout",
     "output_type": "stream",
     "text": [
      "0.6357426047325134\n",
      "1.4085180759429932\n",
      "0.44825151562690735\n"
     ]
    }
   ],
   "source": [
    "match_face('Test Images2/50.jpg')"
   ]
  },
  {
   "cell_type": "code",
   "execution_count": null,
   "metadata": {},
   "outputs": [],
   "source": []
  }
 ],
 "metadata": {
  "kernelspec": {
   "display_name": "Python 3",
   "language": "python",
   "name": "python3"
  },
  "language_info": {
   "codemirror_mode": {
    "name": "ipython",
    "version": 3
   },
   "file_extension": ".py",
   "mimetype": "text/x-python",
   "name": "python",
   "nbconvert_exporter": "python",
   "pygments_lexer": "ipython3",
   "version": "3.7.6"
  }
 },
 "nbformat": 4,
 "nbformat_minor": 4
}
