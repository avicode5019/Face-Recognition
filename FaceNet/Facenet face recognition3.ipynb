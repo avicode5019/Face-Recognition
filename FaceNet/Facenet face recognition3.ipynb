{
 "cells": [
  {
   "cell_type": "code",
   "execution_count": null,
   "metadata": {},
   "outputs": [],
   "source": [
    "print(\"hello world\")"
   ]
  },
  {
   "cell_type": "code",
   "execution_count": 4,
   "metadata": {},
   "outputs": [],
   "source": [
    "import keras"
   ]
  },
  {
   "cell_type": "code",
   "execution_count": 5,
   "metadata": {},
   "outputs": [],
   "source": [
    "from keras.models import Model, Sequential\n",
    "from keras.layers import Input, Conv2D, MaxPooling2D, Flatten,Dense,GlobalAveragePooling2D,Lambda,add, Dropout, Activation,Concatenate,BatchNormalization\n",
    "import numpy as np\n",
    "from keras.preprocessing.image import load_img, save_img, img_to_array\n",
    "from keras.applications.imagenet_utils import preprocess_input\n",
    "from keras.preprocessing import image\n",
    "from keras import backend as K\n",
    "import matplotlib.pyplot as plt\n",
    "import cv2"
   ]
  },
  {
   "cell_type": "code",
   "execution_count": 6,
   "metadata": {},
   "outputs": [],
   "source": [
    "import scipy\n",
    "from scipy.spatial import distance"
   ]
  },
  {
   "cell_type": "code",
   "execution_count": 7,
   "metadata": {},
   "outputs": [],
   "source": [
    "from imageio import imread\n",
    "from skimage.transform import resize"
   ]
  },
  {
   "cell_type": "code",
   "execution_count": 8,
   "metadata": {},
   "outputs": [],
   "source": [
    "import os\n",
    "from os import listdir\n",
    "from os.path import isfile, join"
   ]
  },
  {
   "cell_type": "code",
   "execution_count": 9,
   "metadata": {},
   "outputs": [],
   "source": [
    "import mtcnn\n",
    "import matplotlib.pyplot as plt\n",
    "%matplotlib inline\n",
    "from matplotlib.patches import Rectangle\n",
    "from matplotlib.patches import Circle\n",
    "from mtcnn.mtcnn import MTCNN\n",
    "model2 = MTCNN(min_face_size = 10)"
   ]
  },
  {
   "cell_type": "code",
   "execution_count": 10,
   "metadata": {},
   "outputs": [],
   "source": [
    "from inception_resnet_v1 import *"
   ]
  },
  {
   "cell_type": "code",
   "execution_count": 11,
   "metadata": {},
   "outputs": [],
   "source": [
    "model = InceptionResNetV1()"
   ]
  },
  {
   "cell_type": "code",
   "execution_count": 12,
   "metadata": {},
   "outputs": [],
   "source": [
    "model.load_weights('facenet_keras_weights.h5')"
   ]
  },
  {
   "cell_type": "code",
   "execution_count": 13,
   "metadata": {},
   "outputs": [],
   "source": [
    "def l2_normalize(x, axis=-1, epsilon=1e-10):\n",
    "    output = x / np.sqrt(np.maximum(np.sum(np.square(x), axis=axis, keepdims=True), epsilon))\n",
    "    return output"
   ]
  },
  {
   "cell_type": "code",
   "execution_count": 14,
   "metadata": {},
   "outputs": [],
   "source": [
    "def preprocess(x):\n",
    "    if x.ndim == 4:\n",
    "        axis = (1, 2, 3)\n",
    "        size = x[0].size\n",
    "    elif x.ndim == 3:\n",
    "        axis = (0, 1, 2)\n",
    "        size = x.size\n",
    "    else:\n",
    "        raise ValueError('Dimension should be 3 or 4')\n",
    "\n",
    "    mean = np.mean(x, axis=axis, keepdims=True)\n",
    "    std = np.std(x, axis=axis, keepdims=True)\n",
    "    std_adj = np.maximum(std, 1.0/np.sqrt(size))\n",
    "    y = (x - mean) / std_adj\n",
    "    return y"
   ]
  },
  {
   "cell_type": "code",
   "execution_count": 15,
   "metadata": {},
   "outputs": [],
   "source": [
    "def faceinfo(image,margin =10):\n",
    "    person_image1 = cv2.imread(image)\n",
    "    person_image = cv2.cvtColor(person_image1, cv2.COLOR_BGR2RGB)\n",
    "    face_info = model2.detect_faces(person_image)\n",
    "    for face in face_info:\n",
    "        x,y,w,h = face['box']\n",
    "        x,y = abs(x),abs(y)\n",
    "        face = person_image[y-margin:y+h+margin,x-margin:x+w+margin]\n",
    "        roi = cv2.resize(face, (160,160))\n",
    "        img = np.expand_dims(roi, axis=0)\n",
    "    return img"
   ]
  },
  {
   "cell_type": "code",
   "execution_count": 16,
   "metadata": {},
   "outputs": [],
   "source": [
    "def faceinfo2(image,margin =10):\n",
    "    person_image1 = cv2.imread(image)\n",
    "    person_image = cv2.cvtColor(person_image1, cv2.COLOR_BGR2RGB)\n",
    "    face_info = model2.detect_faces(person_image)\n",
    "    for face in face_info:\n",
    "        if face['confidence']>0.98:\n",
    "            x,y,w,h = face['box']\n",
    "            x,y = abs(x),abs(y)\n",
    "            face = person_image1[y-margin//2:y+h+margin//2,x-margin//2:x+w+margin//2,:]\n",
    "            roi = cv2.resize(face, (160,160))\n",
    "            break\n",
    "        else:\n",
    "            pass\n",
    "    return roi"
   ]
  },
  {
   "cell_type": "code",
   "execution_count": 17,
   "metadata": {},
   "outputs": [],
   "source": [
    "def expand(image):\n",
    "    person_image1 = cv2.imread(image)\n",
    "    person_image = cv2.cvtColor(person_image1, cv2.COLOR_BGR2RGB)\n",
    "    img = np.expand_dims(person_image, axis=0)\n",
    "    return img"
   ]
  },
  {
   "cell_type": "code",
   "execution_count": null,
   "metadata": {},
   "outputs": [],
   "source": [
    "epsilon = 0.82\n",
    "def Face_match(img1, img2):\n",
    "    img1_representation = model.predict(preprocess(faceinfo(img1)))\n",
    "    img2_representation = model.predict(preprocess(faceinfo(img2)))\n",
    "    img1_representation = l2_normalize(img1_representation)\n",
    "    img2_representation = l2_normalize(img2_representation)\n",
    "    \n",
    "    e_distance = distance.euclidean(img1_representation, img2_representation)\n",
    "    \n",
    "    f = plt.figure(figsize = (10,6))\n",
    "    f.add_subplot(1,2, 1)\n",
    "    image1 = plt.imread(img1)\n",
    "    plt.imshow(image1)\n",
    "    plt.xticks([]); plt.yticks([])\n",
    "    f.add_subplot(1,2, 2)\n",
    "    image2 = plt.imread(img2)\n",
    "    plt.imshow(image2)\n",
    "    plt.xticks([]); plt.yticks([])\n",
    "    plt.show(block=True)\n",
    "    \n",
    "    print(\"euclidean_distance: \",e_distance)\n",
    "    \n",
    "    if(e_distance < epsilon):\n",
    "        print(\"They are same person\")\n",
    "    else:\n",
    "        print(\"They are not same person!\")"
   ]
  },
  {
   "cell_type": "code",
   "execution_count": null,
   "metadata": {},
   "outputs": [],
   "source": [
    "import time\n",
    "start = time.time()\n",
    "Face_match(\"Bill_Gates1.jpg\", \"Larry_Page2.jpg\")\n",
    "end = time.time()\n",
    "diff = end-start\n",
    "print(diff)"
   ]
  },
  {
   "cell_type": "code",
   "execution_count": null,
   "metadata": {},
   "outputs": [],
   "source": [
    "import time\n",
    "start = time.time()\n",
    "Face_match(\"kiara_advani2.jpg\", \"Kiara_Advani3.jpg\")\n",
    "end = time.time()\n",
    "diff = end-start\n",
    "print(diff)"
   ]
  },
  {
   "cell_type": "code",
   "execution_count": null,
   "metadata": {},
   "outputs": [],
   "source": [
    "l = listdir('faces3')"
   ]
  },
  {
   "cell_type": "code",
   "execution_count": null,
   "metadata": {},
   "outputs": [],
   "source": [
    "im = faceinfo2('Saif-Ali-Khan5.jpg')\n",
    "cv2.imwrite('crop_faces2/Saif_Ali_Khan5.jpg',im)"
   ]
  },
  {
   "cell_type": "code",
   "execution_count": null,
   "metadata": {},
   "outputs": [],
   "source": [
    "def add_photo(image_path):\n",
    "    name = image_path.split(\".\")[0].split('/')[1]\n",
    "    im = faceinfo2(image_path)\n",
    "    cv2.imwrite('crop_faces2/'+name+ '.jpg',im)\n",
    "    im2 = np.expand_dims(im, axis=0)\n",
    "    im3 = l2_normalize(model.predict(preprocess(im2)))\n",
    "    all_people_faces[name] = im3"
   ]
  },
  {
   "cell_type": "code",
   "execution_count": null,
   "metadata": {},
   "outputs": [],
   "source": [
    "l = listdir('faces3')\n",
    "len(l)"
   ]
  },
  {
   "cell_type": "code",
   "execution_count": null,
   "metadata": {},
   "outputs": [],
   "source": [
    "m =0\n",
    "for i in l:\n",
    "    add_photo('faces3/'+i)\n",
    "    print(m)\n",
    "    m=m+1"
   ]
  },
  {
   "cell_type": "code",
   "execution_count": null,
   "metadata": {},
   "outputs": [],
   "source": [
    "i = 1\n",
    "pictures = \"./crop_faces2/\"\n",
    "all_people_faces = dict()\n",
    "for face in listdir(pictures):\n",
    "    person_face = face.split(\".\")[0]\n",
    "    all_people_faces[person_face] = l2_normalize(model.predict(preprocess(expand(pictures+face))))\n",
    "    print(i)\n",
    "    i = i+1"
   ]
  },
  {
   "cell_type": "code",
   "execution_count": 1,
   "metadata": {},
   "outputs": [],
   "source": [
    "import pickle"
   ]
  },
  {
   "cell_type": "code",
   "execution_count": null,
   "metadata": {},
   "outputs": [],
   "source": [
    "with open('all_people_faces' + '.pkl', 'wb') as f:\n",
    "    pickle.dump(all_people_faces, f, pickle.HIGHEST_PROTOCOL)"
   ]
  },
  {
   "cell_type": "code",
   "execution_count": 3,
   "metadata": {},
   "outputs": [],
   "source": [
    "all_people_faces = pickle.load(open('all_people_faces.pkl','rb'))"
   ]
  },
  {
   "cell_type": "code",
   "execution_count": 20,
   "metadata": {},
   "outputs": [],
   "source": [
    "import time"
   ]
  },
  {
   "cell_type": "code",
   "execution_count": 21,
   "metadata": {},
   "outputs": [],
   "source": [
    "def match_face(image_address,margin = 5):\n",
    "    t1 = time.time()\n",
    "    image = cv2.imread(image_address)\n",
    "    image1 = cv2.cvtColor(image, cv2.COLOR_BGR2RGB)    \n",
    "    face_info = model2.detect_faces(image1)\n",
    "    for face in face_info:\n",
    "        if face['confidence']>0.98:\n",
    "            x,y,w,h = face['box']\n",
    "            x,y = abs(x),abs(y)\n",
    "            if x <10: \n",
    "                x = 10\n",
    "            elif y< 10:\n",
    "                y = 10\n",
    "            face = image1[y-margin//2:y+h+margin//2,x-margin//2:x+w+margin//2,:]\n",
    "            roi =  resize(face, (160,160),mode = 'reflect')\n",
    "            roi = np.expand_dims(roi, axis=0)\n",
    "            captured_representation = l2_normalize(model.predict(preprocess(roi))[0])\n",
    "            cv2.rectangle(image, (x,y), (x+w,y+h), (0,0,255), 1)\n",
    "            cv2.rectangle(image,(x,y-20),(x+w+40,y),(0,255,0),-1)\n",
    "            sim_dict = {}\n",
    "            for i in all_people_faces:\n",
    "                person_name = i\n",
    "                representation = all_people_faces[i]\n",
    "                similarity =  distance.euclidean(representation, captured_representation)\n",
    "                sim_dict[person_name] = similarity\n",
    "                min_similarity = min(sim_dict.values())\n",
    "            found = 0\n",
    "            if min_similarity < 0.75:\n",
    "                person_name1 = [key for key in sim_dict if sim_dict[key] == min_similarity]\n",
    "                cv2.putText(image, person_name1[0][:-1], (int(x), int(y-5)), 0, 0.6, (0, 0, 255), 2)\n",
    "                found = 1\n",
    "                print(person_name1[0][:-1])\n",
    "                print(min_similarity)\n",
    "            if(found == 0):\n",
    "                cv2.putText(image, 'unknown', (int(x), int(y-5)), 0, 0.6, (255, 0, 0), 2)\n",
    "            \n",
    "        else:\n",
    "            pass\n",
    "    t2 = time.time()\n",
    "    print('time took ' + str(t2-t1) + ' sec')\n",
    "    cv2.imshow('Face Recognition', image)\n",
    "    cv2.waitKey(0)    \n",
    "    cv2.destroyAllWindows()"
   ]
  },
  {
   "cell_type": "code",
   "execution_count": 28,
   "metadata": {},
   "outputs": [
    {
     "name": "stdout",
     "output_type": "stream",
     "text": [
      "time took 1.223818063735962 sec\n"
     ]
    }
   ],
   "source": [
    "match_face('Test Images2/70.jpeg')"
   ]
  },
  {
   "cell_type": "code",
   "execution_count": null,
   "metadata": {},
   "outputs": [],
   "source": [
    "def match_face2(image_address,margin = 10):\n",
    "    image = image_address\n",
    "    image1 = cv2.cvtColor(image, cv2.COLOR_BGR2RGB)    \n",
    "    face_info = model2.detect_faces(image1)\n",
    "    for face in face_info:\n",
    "        if face['confidence']>0.98:\n",
    "            x,y,w,h = face['box']\n",
    "            x,y = abs(x),abs(y)\n",
    "            if x <10: \n",
    "                x = 10\n",
    "            elif y< 10:\n",
    "                y = 10\n",
    "            face = image1[y-margin//2:y+h+margin//2,x-margin//2:x+w+margin//2,:]\n",
    "            roi =  resize(face, (160,160),mode = 'reflect')\n",
    "            roi = np.expand_dims(roi, axis=0)\n",
    "            captured_representation = l2_normalize(model.predict(preprocess(roi))[0])\n",
    "            \n",
    "        \n",
    "            cv2.rectangle(image, (x,y), (x+w,y+h), (0,0,255), 1)\n",
    "            cv2.rectangle(image,(x,y-20),(x+w+40,y),(0,255,0),-1)\n",
    "            sim_dict = {}\n",
    "            for i in all_people_faces:\n",
    "                person_name = i\n",
    "                representation = all_people_faces[i]\n",
    "\n",
    "                similarity =  distance.euclidean(representation, captured_representation)\n",
    "                sim_dict[person_name] = similarity\n",
    "                min_similarity = min(sim_dict.values())\n",
    "            \n",
    "            found = 0\n",
    "            if min_similarity < 0.82:\n",
    "                person_name1 = [key for key in sim_dict if sim_dict[key] == min_similarity]\n",
    "                cv2.putText(image, person_name1[0][:-1], (int(x), int(y-5)), 0, 0.6, (0, 0, 255), 2)\n",
    "                found = 1\n",
    "                \n",
    "                \n",
    "            if(found == 0):\n",
    "                cv2.putText(image, 'unknown', (int(x), int(y-5)), 0, 0.6, (255, 0, 0), 2)\n",
    "            \n",
    "        else:\n",
    "            pass\n",
    "    \n",
    "    cv2.imshow('Face Recognition', image)"
   ]
  },
  {
   "cell_type": "code",
   "execution_count": null,
   "metadata": {},
   "outputs": [],
   "source": [
    "import time"
   ]
  },
  {
   "cell_type": "code",
   "execution_count": null,
   "metadata": {},
   "outputs": [],
   "source": [
    "start_time = time.time()\n",
    "cap = cv2.VideoCapture('test_video1.mp4')\n",
    "while True:\n",
    "    now_time = time.time()\n",
    "    if now_time -start_time >.2:\n",
    "        ret, img = cap.read()\n",
    "        if not ret:\n",
    "            break\n",
    "        match_face2(img)\n",
    "        start_time = time.time()\n",
    "    if cv2.waitKey(1) & 0xFF == ord('q'):\n",
    "        break \n",
    "cap.release()\n",
    "cv2.destroyAllWindows()"
   ]
  },
  {
   "cell_type": "code",
   "execution_count": null,
   "metadata": {},
   "outputs": [],
   "source": [
    "start_time = time.time()\n",
    "cap = cv2.VideoCapture('test_video2.mp4')\n",
    "i = 0\n",
    "while True:\n",
    "    now_time = time.time()\n",
    "    if now_time -start_time >.02:\n",
    "        ret, img = cap.read()\n",
    "        if not ret:\n",
    "            break\n",
    "        if i%30 ==0:\n",
    "            match_face2(img)\n",
    "            \n",
    "        start_time = time.time()\n",
    "        i = i+1\n",
    "    if cv2.waitKey(1) & 0xFF == ord('q'):\n",
    "        break \n",
    "cap.release()\n",
    "cv2.destroyAllWindows()"
   ]
  },
  {
   "cell_type": "code",
   "execution_count": null,
   "metadata": {},
   "outputs": [],
   "source": [
    "from facenet_pytorch import MTCNN, InceptionResnetV1\n",
    "model = InceptionResnetV1(pretrained='vggface2').eval()"
   ]
  },
  {
   "cell_type": "code",
   "execution_count": null,
   "metadata": {},
   "outputs": [],
   "source": [
    "mtcnn = MTCNN(image_size= 160, margin=10,keep_all = True)\n",
    "resnet = InceptionResnetV1(pretrained='vggface2').eval()"
   ]
  },
  {
   "cell_type": "code",
   "execution_count": null,
   "metadata": {},
   "outputs": [],
   "source": [
    "import tensorflow as tf"
   ]
  },
  {
   "cell_type": "code",
   "execution_count": null,
   "metadata": {},
   "outputs": [],
   "source": [
    "tf.__version__"
   ]
  },
  {
   "cell_type": "code",
   "execution_count": null,
   "metadata": {},
   "outputs": [],
   "source": []
  }
 ],
 "metadata": {
  "kernelspec": {
   "display_name": "Python 3",
   "language": "python",
   "name": "python3"
  },
  "language_info": {
   "codemirror_mode": {
    "name": "ipython",
    "version": 3
   },
   "file_extension": ".py",
   "mimetype": "text/x-python",
   "name": "python",
   "nbconvert_exporter": "python",
   "pygments_lexer": "ipython3",
   "version": "3.8.5"
  }
 },
 "nbformat": 4,
 "nbformat_minor": 4
}
